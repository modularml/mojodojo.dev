{
    "cells": [
        {
            "attachments": {},
            "cell_type": "markdown",
            "metadata": {
                "slideshow": {
                    "slide_type": "skip"
                }
            },
            "source": [
                "---\n",
                "title: \"Basic Types\"\n",
                "categories: \"02: Basic Types\"\n",
                "usage: \"Get started with Mojo basic types and how to interact with Python\"\n",
                "head:\n",
                "  - [meta, { name: twitter:card , content: summary }]\n",
                "  - [meta, { name: twitter:site , content: '@mojodojodev' }]\n",
                "  - [meta, { name: twitter:title , content: \"Intro to Mojo: Basic Types\" }]\n",
                "  - [meta, { name: twitter:description , content: \"Get started with Mojo basic types and how to interact with Python\" }]\n",
                "  - [meta, { name: twitter:image , content: \"https://mojodojo.dev/hero.png\" }]\n",
                "---\n",
                "\n",
                "# Basic Types\n",
                "_This guide is in the early stages, feedback welcomed [on Github](https://github.com/mojodojodev/mojodojo.dev/discussions/categories/feedback)_\n",
                "\n",
                "## PythonObject\n",
                "Let's start by running code through the Python interpreter from Mojo to get a [PythonObject](https://docs.modular.com/mojo/MojoPython/PythonObject.html) back:"
            ]
        },
        {
            "cell_type": "code",
            "execution_count": 1,
            "metadata": {},
            "outputs": [
                {
                    "name": "stdout",
                    "output_type": "stream",
                    "text": [
                        "15\n"
                    ]
                }
            ],
            "source": [
                "x = Python.evaluate('5 + 10')\n",
                "print(x)"
            ]
        },
        {
            "attachments": {},
            "cell_type": "markdown",
            "metadata": {},
            "source": [
                "`x` is represented in memory the same way as if we ran this in Python:"
            ]
        },
        {
            "cell_type": "code",
            "execution_count": 2,
            "metadata": {},
            "outputs": [
                {
                    "name": "stdout",
                    "output_type": "stream",
                    "text": [
                        "15\n"
                    ]
                }
            ],
            "source": [
                "%%python\n",
                "x = 5 + 10\n",
                "print(x)"
            ]
        },
        {
            "attachments": {},
            "cell_type": "markdown",
            "metadata": {},
            "source": [
                "_in the Mojo playground, using `%%python` at the top of a cell will run code through Python instead of Mojo_\n",
                "\n",
                "`x` is actually a pointer to `heap` allocated memory.\n",
                "\n",
                "::: tip CS Fundamentals\n",
                "`stack` and `heap` memory are really important concepts to understand, [this YouTube video](https://www.youtube.com/watch?v=_8-ht2AKyH4) does a fantastic job of explaining it visually. \n",
                "\n",
                "If the video doesn't make sense, for now you can use the mental model that:\n",
                "\n",
                "- `stack` memory is very fast but small, the size of the values are static and can't change at runtime\n",
                "- `pointer` is an address to lookup the value somewhere else in memory\n",
                "- `heap` memory is huge and the size can change at runtime, but needs a pointer to access the data which is relatively slow\n",
                "\n",
                "These concepts will make more sense over time\n",
                ":::\n",
                "\n",
                "You can access all the Python keywords by importing `builtins`:"
            ]
        },
        {
            "cell_type": "code",
            "execution_count": 3,
            "metadata": {},
            "outputs": [
                {
                    "name": "stdout",
                    "output_type": "stream",
                    "text": [
                        "this uses the python print keyword\n"
                    ]
                }
            ],
            "source": [
                "let py = Python.import_module(\"builtins\")\n",
                "\n",
                "py.print(\"this uses the python print keyword\")"
            ]
        },
        {
            "attachments": {},
            "cell_type": "markdown",
            "metadata": {},
            "source": [
                "We can now use the `type` builtin from Python to see what the dynamic type of `x` is:"
            ]
        },
        {
            "cell_type": "code",
            "execution_count": 4,
            "metadata": {},
            "outputs": [
                {
                    "name": "stdout",
                    "output_type": "stream",
                    "text": [
                        "<class 'int'>\n"
                    ]
                }
            ],
            "source": [
                "py.print(py.type(x))"
            ]
        },
        {
            "attachments": {},
            "cell_type": "markdown",
            "metadata": {},
            "source": [
                "We can read the address that is stored in `x` on the `stack` using the Python builtin `id`"
            ]
        },
        {
            "cell_type": "code",
            "execution_count": 5,
            "metadata": {},
            "outputs": [
                {
                    "name": "stdout",
                    "output_type": "stream",
                    "text": [
                        "139732464847136\n"
                    ]
                }
            ],
            "source": [
                "py.print(py.id(x))"
            ]
        },
        {
            "attachments": {},
            "cell_type": "markdown",
            "metadata": {},
            "source": [
                "This is pointing to a C object in Python, and Mojo behaves the same when using a `PythonObject`, accessing the value actually uses the address to lookup the data on the `heap` which comes with a performance cost. \n",
                "\n",
                "This is a simplified representation of how the `C Object` being pointed to would look if it were a Python dict:"
            ]
        },
        {
            "cell_type": "code",
            "execution_count": 6,
            "metadata": {},
            "outputs": [],
            "source": [
                "%%python\n",
                "heap = {\n",
                "    44601345678945: {\n",
                "        \"type\": \"int\",\n",
                "        \"ref_count\": 1,\n",
                "        \"size\": 1,\n",
                "        \"digit\": 8,\n",
                "        #...\n",
                "    }\n",
                "    #...\n",
                "}"
            ]
        },
        {
            "attachments": {},
            "cell_type": "markdown",
            "metadata": {},
            "source": [
                "On the stack the simplified representation of `x` would look like this:"
            ]
        },
        {
            "cell_type": "code",
            "execution_count": 7,
            "metadata": {},
            "outputs": [],
            "source": [
                "%%python\n",
                "[\n",
                "    { \"frame\": \"main\", \"variables\": { \"x\": 44601345678945 } }\n",
                "]"
            ]
        },
        {
            "attachments": {},
            "cell_type": "markdown",
            "metadata": {},
            "source": [
                "`x` contains an address that is pointing to the heap object\n",
                "\n",
                "In Python we can change the type dynamically:"
            ]
        },
        {
            "cell_type": "code",
            "execution_count": 8,
            "metadata": {},
            "outputs": [],
            "source": [
                "x = \"mojo\""
            ]
        },
        {
            "attachments": {},
            "cell_type": "markdown",
            "metadata": {},
            "source": [
                "The object in C will change its representation:"
            ]
        },
        {
            "cell_type": "code",
            "execution_count": 3,
            "metadata": {},
            "outputs": [],
            "source": [
                "%%python\n",
                "heap = {\n",
                "    44601345678945 : {\n",
                "        \"type\": \"string\",\n",
                "        \"ref_count\": 1,\n",
                "        \"size\": 4,\n",
                "        \"ascii\": True,\n",
                "        # utf-8 / ascii for \"mojo\"\n",
                "        \"value\": [109, 111, 106, 111]\n",
                "        # ...\n",
                "    }\n",
                "}"
            ]
        },
        {
            "attachments": {},
            "cell_type": "markdown",
            "metadata": {},
            "source": [
                "Mojo also allows us to do this when the type is a `PythonObject`, it works the exact same way as it would in a Python program."
            ]
        },
        {
            "attachments": {},
            "cell_type": "markdown",
            "metadata": {},
            "source": [
                "This allows the runtime to do nice convenient things for us\n",
                "- once the `ref_count` goes to zero it will be de-allocated from the heap during garbage collection, so the OS can use that memory for something else\n",
                "- an integer can grow beyond 64 bits by increasing `size`\n",
                "- we can dynamically change the `type`\n",
                "- the data can be large or small, we don't have to think about when we should allocate to the heap\n",
                "\n",
                "However this also comes with a penalty, there is a lot of extra memory being used for the extra fields, and it takes CPU instructions to allocate the data, retrieve it, garbage collect etc.\n",
                "\n",
                "In Mojo we can remove all that overhead:"
            ]
        },
        {
            "attachments": {},
            "cell_type": "markdown",
            "metadata": {},
            "source": [
                "## Mojo 🔥"
            ]
        },
        {
            "cell_type": "code",
            "execution_count": 10,
            "metadata": {},
            "outputs": [
                {
                    "name": "stdout",
                    "output_type": "stream",
                    "text": [
                        "15\n"
                    ]
                }
            ],
            "source": [
                "x = 5 + 10\n",
                "print(x)"
            ]
        },
        {
            "attachments": {},
            "cell_type": "markdown",
            "metadata": {},
            "source": [
                "We've just unlocked our first Mojo optimization! Instead of looking up an object on the heap via an address, `x` is now just a value on the stack with 64 bits that can be passed through registers.\n",
                "\n",
                "This has numerous performance implications:\n",
                "\n",
                "- All the expensive allocation, garbage collection, and indirection is no longer required\n",
                "- The compiler can do huge optimizations when it knows what the numeric type is\n",
                "- The value can be passed straight into registers for mathematical operations\n",
                "- There is no overhead associated with compiling to bytecode and running through an interpreter\n",
                "- The data can now be packed into a vector for huge performance gains\n",
                "\n",
                "That last one is very important in today's world, let's see how Mojo gives us the power to take advantage of modern hardware.\n",
                "\n",
                "## SIMD"
            ]
        },
        {
            "attachments": {},
            "cell_type": "markdown",
            "metadata": {},
            "source": [
                "SIMD stands for `Single Instruction, Multiple Data`, hardware now contains special registers that allow you do the same operation across a vector in a single instruction, greatly improving performance, let's take a look:"
            ]
        },
        {
            "cell_type": "code",
            "execution_count": 60,
            "metadata": {},
            "outputs": [
                {
                    "name": "stdout",
                    "output_type": "stream",
                    "text": [
                        "[1, 2, 3, 4]\n"
                    ]
                }
            ],
            "source": [
                "from DType import DType\n",
                "\n",
                "y = SIMD[DType.uint8, 4](1, 2, 3, 4)\n",
                "print(y)"
            ]
        },
        {
            "attachments": {},
            "cell_type": "markdown",
            "metadata": {},
            "source": [
                "In the definition `[DType.uint8, 4]` are known as `parameters` which means they must be compile-time known, while `(1, 2, 3, 4)` are the `arguments` which can be compile-time or runtime known. \n",
                "\n",
                "For example user input or data retrieved from an API is runtime known, and so can't be used as a `parameter` during the compilation process.\n",
                "\n",
                "In other languages `argument` and `parameter` often mean the same thing, in Mojo it's a very important distinction."
            ]
        },
        {
            "attachments": {},
            "cell_type": "markdown",
            "metadata": {},
            "source": [
                "This is now a vector of 8 bit numbers that are packed into 32 bits, we can perform a single instruction across all of it instead of 4 separate instructions:"
            ]
        },
        {
            "cell_type": "code",
            "execution_count": 12,
            "metadata": {},
            "outputs": [
                {
                    "name": "stdout",
                    "output_type": "stream",
                    "text": [
                        "[10, 20, 30, 40]\n"
                    ]
                }
            ],
            "source": [
                "y *= 10\n",
                "print(y)"
            ]
        },
        {
            "attachments": {},
            "cell_type": "markdown",
            "metadata": {},
            "source": [
                "::: tip CS Fundamentals\n",
                "Binary is how your computer stores memory, with each bit representing a `0` or `1`. Memory is typically `byte` addressable, meaning that each unique memory address points to one `byte`, which consists of 8 `bits`.\n",
                "\n",
                "This is how the first 4 digits in a `uint8` are represented in hardware:\n",
                "\n",
                "- 1 = `00000001`\n",
                "- 2 = `00000010`\n",
                "- 3 = `00000011`\n",
                "- 4 = `00000100`\n",
                "\n",
                "Binary `1` and `0` represents `ON` or `OFF` indicating an electrical charge in the tiny circuits of your computer.\n",
                "\n",
                "[Check this video](https://www.youtube.com/watch?v=RrJXLdv1i74) if you want more information on binary.\n",
                ":::\n",
                "\n",
                "We're packing the data together with SIMD on the `stack` so it can be passed into a SIMD register like this:\n",
                "\n",
                "`00000001` `00000010` `00000011` `00000100`\n",
                "\n",
                "The SIMD register in modern CPU's is huge, let's see how big it is in the Mojo playground:"
            ]
        },
        {
            "cell_type": "code",
            "execution_count": 13,
            "metadata": {},
            "outputs": [
                {
                    "name": "stdout",
                    "output_type": "stream",
                    "text": [
                        "512\n"
                    ]
                }
            ],
            "source": [
                "from TargetInfo import simdbitwidth\n",
                "print(simdbitwidth())"
            ]
        },
        {
            "attachments": {},
            "cell_type": "markdown",
            "metadata": {},
            "source": [
                "That means we could pack 64 x 8bit numbers together and perform a calculation on all of it with a single instruction."
            ]
        },
        {
            "attachments": {},
            "cell_type": "markdown",
            "metadata": {},
            "source": [
                "You can also initialize SIMD with a single argument:"
            ]
        },
        {
            "cell_type": "code",
            "execution_count": 28,
            "metadata": {},
            "outputs": [
                {
                    "name": "stdout",
                    "output_type": "stream",
                    "text": [
                        "[1, 1, 1, 1]\n"
                    ]
                }
            ],
            "source": [
                "z = SIMD[DType.uint8, 4](1)\n",
                "print(z)"
            ]
        },
        {
            "attachments": {},
            "cell_type": "markdown",
            "metadata": {},
            "source": [
                "## Scalars"
            ]
        },
        {
            "attachments": {},
            "cell_type": "markdown",
            "metadata": {},
            "source": [
                "Scalar just means a single value, you'll notice in Mojo all the numerics are SIMD scalars:"
            ]
        },
        {
            "cell_type": "code",
            "execution_count": 14,
            "metadata": {},
            "outputs": [
                {
                    "name": "stderr",
                    "output_type": "stream",
                    "text": [
                        "error: \u001b[0;1;31m\u001b[1mExpression [14]:20:9: \u001b[0m\u001b[1mcannot implicitly convert 'StringLiteral' value to 'SIMD[ui8, 1]' in assignment\n",
                        "\u001b[0m    x = \"will cause an error\"\n",
                        "\u001b[0;1;32m        ^~~~~~~~~~~~~~~~~~~~~\n",
                        "\u001b[0m\u001b[0m\n"
                    ]
                }
            ],
            "source": [
                "var x = UInt8(1)\n",
                "x = \"will cause an error\""
            ]
        },
        {
            "attachments": {},
            "cell_type": "markdown",
            "metadata": {},
            "source": [
                "`UInt8` is just an `alias` for `SIMD[DType.uint8, 1]`, you can see all the [numeric SIMD types imported by default here](https://docs.modular.com/mojo/MojoStdlib/SIMD.html):\n",
                "\n",
                "- Float16\n",
                "- Float32\n",
                "- Float64\n",
                "- Int8\n",
                "- Int16\n",
                "- Int32\n",
                "- Int64\n",
                "- UInt8\n",
                "- UInt16\n",
                "- UInt32\n",
                "- UInt64\n",
                "\n",
                "Also notice when we try and change the type it throws an error, this is because Mojo is `strongly typed`\n",
                "\n",
                "If we use existing Python modules, it will give us back a `PythonObject` that behaves the same `loosely typed` way as it does in Python:"
            ]
        },
        {
            "cell_type": "code",
            "execution_count": 15,
            "metadata": {},
            "outputs": [
                {
                    "name": "stdout",
                    "output_type": "stream",
                    "text": [
                        "[0.   0.25 0.5  0.75 1.  ]\n",
                        "this will work fine\n"
                    ]
                }
            ],
            "source": [
                "np = Python.import_module(\"numpy\")\n",
                "\n",
                "arr = np.ndarray([5])\n",
                "print(arr)\n",
                "arr = \"this will work fine\"\n",
                "print(arr)"
            ]
        },
        {
            "attachments": {},
            "cell_type": "markdown",
            "metadata": {},
            "source": [
                "## Strings\n",
                "In Mojo the heap allocated `String` isn't imported by default:"
            ]
        },
        {
            "cell_type": "code",
            "execution_count": 16,
            "metadata": {},
            "outputs": [
                {
                    "name": "stdout",
                    "output_type": "stream",
                    "text": [
                        "Mojo🔥\n"
                    ]
                }
            ],
            "source": [
                "from String import String\n",
                "\n",
                "s = String(\"Mojo🔥\")\n",
                "print(s)"
            ]
        },
        {
            "attachments": {},
            "cell_type": "markdown",
            "metadata": {},
            "source": [
                "`String` is actually a pointer to `heap` allocated data, this means we can load a huge amount of data into it, and change the size of the data dynamically during runtime.\n",
                "\n",
                "Let's cause a type error so you can see the data type underlying the String:"
            ]
        },
        {
            "cell_type": "code",
            "execution_count": 17,
            "metadata": {},
            "outputs": [
                {
                    "name": "stderr",
                    "output_type": "stream",
                    "text": [
                        "error: \u001b[0;1;31m\u001b[1mExpression [17]:22:10: \u001b[0m\u001b[1mcannot implicitly convert 'DynamicVector[SIMD[si8, 1]]' value to 'PythonObject' in assignment\n",
                        "\u001b[0m    x = s.buffer\n",
                        "\u001b[0;1;32m        ~^~~~~~~\n",
                        "\u001b[0m\u001b[0m\n"
                    ]
                }
            ],
            "source": [
                "x = s.buffer\n",
                "x = 20"
            ]
        },
        {
            "attachments": {},
            "cell_type": "markdown",
            "metadata": {},
            "source": [
                "`DynamicVector` is similar to a Python list, here it's storing multiple `int8`'s that represent the characters, let's print the first character:"
            ]
        },
        {
            "cell_type": "code",
            "execution_count": 18,
            "metadata": {},
            "outputs": [
                {
                    "name": "stdout",
                    "output_type": "stream",
                    "text": [
                        "M\n"
                    ]
                }
            ],
            "source": [
                "print(s[0])"
            ]
        },
        {
            "attachments": {},
            "cell_type": "markdown",
            "metadata": {},
            "source": [
                "Now lets take a look at the decimal representation:"
            ]
        },
        {
            "cell_type": "code",
            "execution_count": 19,
            "metadata": {},
            "outputs": [
                {
                    "name": "stdout",
                    "output_type": "stream",
                    "text": [
                        "77\n"
                    ]
                }
            ],
            "source": [
                "from String import ord\n",
                "\n",
                "print(ord(s[0]))"
            ]
        },
        {
            "attachments": {},
            "cell_type": "markdown",
            "metadata": {},
            "source": [
                "That's the ASCII code [shown in this table](https://www.ascii-code.com/)\n",
                "\n",
                "We can build our own string this way, we can put in 78 which is N and 79 which is O"
            ]
        },
        {
            "cell_type": "code",
            "execution_count": 20,
            "metadata": {},
            "outputs": [],
            "source": [
                "from Vector import DynamicVector\n",
                "\n",
                "let vec = DynamicVector[Int8](2)\n",
                "\n",
                "vec.push_back(78)\n",
                "vec.push_back(79)"
            ]
        },
        {
            "attachments": {},
            "cell_type": "markdown",
            "metadata": {},
            "source": [
                "We can use a `StringRef` to get a pointer to the same location in memory, but with the methods required to output the numbers as text:"
            ]
        },
        {
            "cell_type": "code",
            "execution_count": 21,
            "metadata": {},
            "outputs": [
                {
                    "name": "stdout",
                    "output_type": "stream",
                    "text": [
                        "NO\n"
                    ]
                }
            ],
            "source": [
                "from Pointer import DTypePointer\n",
                "from DType import DType\n",
                "\n",
                "let vec_str_ref = StringRef(DTypePointer[DType.int8](vec.data).address, vec.size)\n",
                "print(vec_str_ref)"
            ]
        },
        {
            "attachments": {},
            "cell_type": "markdown",
            "metadata": {},
            "source": [
                "Because it points to the same location in `heap` memory, changing the original vector will also change the value retrieved by the reference:"
            ]
        },
        {
            "cell_type": "code",
            "execution_count": 22,
            "metadata": {},
            "outputs": [
                {
                    "name": "stdout",
                    "output_type": "stream",
                    "text": [
                        "NN\n"
                    ]
                }
            ],
            "source": [
                "vec[1] = 78\n",
                "print(vec_str_ref)"
            ]
        },
        {
            "attachments": {},
            "cell_type": "markdown",
            "metadata": {},
            "source": [
                "Create a `deep copy` of the String and allocate it to the heap:"
            ]
        },
        {
            "cell_type": "code",
            "execution_count": 23,
            "metadata": {},
            "outputs": [
                {
                    "name": "stdout",
                    "output_type": "stream",
                    "text": [
                        "NN\n"
                    ]
                }
            ],
            "source": [
                "from String import String\n",
                "let vec_str = String(vec_str_ref)\n",
                "\n",
                "print(vec_str)"
            ]
        },
        {
            "attachments": {},
            "cell_type": "markdown",
            "metadata": {},
            "source": [
                "Now we've made a copy of the data to a new location in `heap` memory, we can modify the original and it won't effect our copy:"
            ]
        },
        {
            "cell_type": "code",
            "execution_count": 24,
            "metadata": {},
            "outputs": [
                {
                    "name": "stdout",
                    "output_type": "stream",
                    "text": [
                        "NN\n"
                    ]
                }
            ],
            "source": [
                "vec[0] = 65\n",
                "vec[1] = 65\n",
                "print(vec_str)"
            ]
        },
        {
            "attachments": {},
            "cell_type": "markdown",
            "metadata": {},
            "source": [
                "The other string type is a `StringLiteral`, it's written directly into the binary, when the program starts it's loaded into `read-only` memory, which means it's constant and lives for the duration of the program:"
            ]
        },
        {
            "cell_type": "code",
            "execution_count": 25,
            "metadata": {},
            "outputs": [
                {
                    "name": "stdout",
                    "output_type": "stream",
                    "text": [
                        "This is my StringLiteral\n"
                    ]
                }
            ],
            "source": [
                "var lit = \"This is my StringLiteral\"\n",
                "print(lit)"
            ]
        },
        {
            "attachments": {},
            "cell_type": "markdown",
            "metadata": {},
            "source": [
                "Force an error to see the type:"
            ]
        },
        {
            "cell_type": "code",
            "execution_count": 26,
            "metadata": {},
            "outputs": [
                {
                    "name": "stderr",
                    "output_type": "stream",
                    "text": [
                        "error: \u001b[0;1;31m\u001b[1mExpression [26]:26:11: \u001b[0m\u001b[1mcannot implicitly convert 'Int' value to 'StringLiteral' in assignment\n",
                        "\u001b[0m    lit = 20\n",
                        "\u001b[0;1;32m          ^~\n",
                        "\u001b[0m\u001b[0m\n"
                    ]
                }
            ],
            "source": [
                "lit = 20"
            ]
        },
        {
            "attachments": {},
            "cell_type": "markdown",
            "metadata": {},
            "source": [
                "One thing to be aware of is that an emoji is actually four bytes, so we need a slice of 4 to have it print correctly:"
            ]
        },
        {
            "cell_type": "code",
            "execution_count": 27,
            "metadata": {},
            "outputs": [
                {
                    "name": "stdout",
                    "output_type": "stream",
                    "text": [
                        "fire: 🔥\n",
                        "smiley: 😀\n"
                    ]
                }
            ],
            "source": [
                "emoji = String(\"🔥😀\")\n",
                "print(\"fire:\", emoji[0:4])\n",
                "print(\"smiley:\", emoji[4:8])"
            ]
        },
        {
            "attachments": {},
            "cell_type": "markdown",
            "metadata": {},
            "source": [
                "Check out [Maxim Zaks Blog post](https://mzaks.medium.com/counting-chars-with-simd-in-mojo-140ee730bd4d) for more details."
            ]
        },
        {
            "attachments": {},
            "cell_type": "markdown",
            "metadata": {},
            "source": [
                "## Other Builtins\n",
                "These are all of the other builtin types not discussed which are accessible without importing anything, the type can be inferred, but are explicit here for demonstration, for example `let bool: Bool = True` can just be `let bool = True`:\n",
                "\n",
                "### Bool\n",
                "Standard Bool type"
            ]
        },
        {
            "cell_type": "code",
            "execution_count": 30,
            "metadata": {},
            "outputs": [
                {
                    "name": "stdout",
                    "output_type": "stream",
                    "text": [
                        "False\n"
                    ]
                }
            ],
            "source": [
                "let bool: Bool = True\n",
                "print(bool == False)"
            ]
        },
        {
            "attachments": {},
            "cell_type": "markdown",
            "metadata": {},
            "source": [
                "### Int\n",
                "Int is the same size as your architecture e.g. on a 64 bit machine it's 64 bits"
            ]
        },
        {
            "cell_type": "code",
            "execution_count": 75,
            "metadata": {},
            "outputs": [
                {
                    "name": "stdout",
                    "output_type": "stream",
                    "text": [
                        "2\n"
                    ]
                }
            ],
            "source": [
                "let i: Int = 2 \n",
                "print(i)"
            ]
        },
        {
            "attachments": {},
            "cell_type": "markdown",
            "metadata": {},
            "source": [
                "It can also be used as an index:"
            ]
        },
        {
            "cell_type": "code",
            "execution_count": 74,
            "metadata": {},
            "outputs": [
                {
                    "name": "stdout",
                    "output_type": "stream",
                    "text": [
                        "6\n"
                    ]
                }
            ],
            "source": [
                "var vec_2 = DynamicVector[Int]()\n",
                "vec_2.push_back(2)\n",
                "vec_2.push_back(4)\n",
                "vec_2.push_back(6)\n",
                "\n",
                "print(vec_2[i])"
            ]
        },
        {
            "attachments": {},
            "cell_type": "markdown",
            "metadata": {},
            "source": [
                "### FloatLiteral"
            ]
        },
        {
            "cell_type": "code",
            "execution_count": 32,
            "metadata": {},
            "outputs": [
                {
                    "name": "stdout",
                    "output_type": "stream",
                    "text": [
                        "3.2999999999999998\n"
                    ]
                }
            ],
            "source": [
                "let float: FloatLiteral = 3.3\n",
                "print(float)"
            ]
        },
        {
            "cell_type": "code",
            "execution_count": 33,
            "metadata": {},
            "outputs": [
                {
                    "name": "stdout",
                    "output_type": "stream",
                    "text": [
                        "3.2999999523162842\n"
                    ]
                }
            ],
            "source": [
                "let f32 = Float32(float)\n",
                "print(f32)"
            ]
        },
        {
            "attachments": {},
            "cell_type": "markdown",
            "metadata": {},
            "source": [
                "### ListLiteral"
            ]
        },
        {
            "attachments": {},
            "cell_type": "markdown",
            "metadata": {},
            "source": [
                "When you initialize the list the types can be inferred, however when retrieving an item you need to provide the type as a `parameter`:"
            ]
        },
        {
            "cell_type": "code",
            "execution_count": 34,
            "metadata": {},
            "outputs": [
                {
                    "name": "stdout",
                    "output_type": "stream",
                    "text": [
                        "Mojo🔥\n"
                    ]
                }
            ],
            "source": [
                "let list: ListLiteral[Int, FloatLiteral, StringLiteral] = [1, 5.0, \"Mojo🔥\"]\n",
                "print(list.get[2, StringLiteral]())"
            ]
        },
        {
            "attachments": {},
            "cell_type": "markdown",
            "metadata": {},
            "source": [
                "### Tuple"
            ]
        },
        {
            "cell_type": "code",
            "execution_count": 54,
            "metadata": {},
            "outputs": [
                {
                    "name": "stdout",
                    "output_type": "stream",
                    "text": [
                        "1\n"
                    ]
                }
            ],
            "source": [
                "let tup = (1, \"Mojo\", 3)\n",
                "print(tup.get[0, Int]())"
            ]
        },
        {
            "attachments": {},
            "cell_type": "markdown",
            "metadata": {},
            "source": [
                "### Slice\n",
                "A slice follows the python convention of:\n",
                "\n",
                "`start:end:step`\n",
                "\n",
                "So for example using Python syntax:"
            ]
        },
        {
            "cell_type": "code",
            "execution_count": 35,
            "metadata": {},
            "outputs": [
                {
                    "name": "stdout",
                    "output_type": "stream",
                    "text": [
                        "Mojo\n"
                    ]
                }
            ],
            "source": [
                "let original = String(\"MojoDojo\")\n",
                "print(original[0:4])"
            ]
        },
        {
            "attachments": {},
            "cell_type": "markdown",
            "metadata": {},
            "source": [
                "You can also represent as:"
            ]
        },
        {
            "cell_type": "code",
            "execution_count": 36,
            "metadata": {},
            "outputs": [
                {
                    "name": "stdout",
                    "output_type": "stream",
                    "text": [
                        "Mojo\n"
                    ]
                }
            ],
            "source": [
                "let slice_expression = slice(0, 4)\n",
                "\n",
                "print(original[slice_expression])"
            ]
        },
        {
            "attachments": {},
            "cell_type": "markdown",
            "metadata": {},
            "source": [
                "And to get every second letter:"
            ]
        },
        {
            "cell_type": "code",
            "execution_count": 37,
            "metadata": {},
            "outputs": [
                {
                    "name": "stdout",
                    "output_type": "stream",
                    "text": [
                        "Mj\n"
                    ]
                }
            ],
            "source": [
                "print(original[0:4:2])"
            ]
        },
        {
            "attachments": {},
            "cell_type": "markdown",
            "metadata": {},
            "source": [
                "Or:"
            ]
        },
        {
            "cell_type": "code",
            "execution_count": 38,
            "metadata": {},
            "outputs": [
                {
                    "name": "stdout",
                    "output_type": "stream",
                    "text": [
                        "Mj\n"
                    ]
                }
            ],
            "source": [
                "let slice_expression = slice(0, 4, 2)\n",
                "print(original[slice_expression])"
            ]
        },
        {
            "attachments": {},
            "cell_type": "markdown",
            "metadata": {},
            "source": [
                "### Error\n",
                "The error type is very simplistic, we'll go into more details on errors in a later chapter:"
            ]
        },
        {
            "cell_type": "code",
            "execution_count": 55,
            "metadata": {},
            "outputs": [
                {
                    "name": "stdout",
                    "output_type": "stream",
                    "text": [
                        "Error: This returns an Error type\n"
                    ]
                }
            ],
            "source": [
                "def return_error():\n",
                "    raise Error(\"This returns an Error type\")\n",
                "\n",
                "return_error()"
            ]
        },
        {
            "attachments": {},
            "cell_type": "markdown",
            "metadata": {},
            "source": [
                "## Exercises\n",
                "1. Use the Python interpreter to calculate 2 to the power of 8 in a `PythonObject` and print it\n",
                "2. Using the Python `math` module, return `pi` to Mojo and print it\n",
                "3. Initialize two single floats with 64 bits of data and the value 2.0, using the full SIMD version, and the shortened alias version, then multiply them together and print the result.\n",
                "4. Create a loop using SIMD that prints four rows of data that looks like this:\n",
                "```\n", :no-line-numbers
                "    [1,0,0,0]\n",
                "    [0,1,0,0]\n",
                "    [0,0,1,0]\n",
                "    [0,0,0,1]\n",
                "```\n", :no-line-numbers
                "In Mojo you can create a loop like this:\n",
                "\n",
                "```mojo :no-line-numbers\n", :no-line-numbers
                "for i in range(4):\n",
                "    pass\n",
                "```" :no-line-numbers
            ]
        },
        {
            "attachments": {},
            "cell_type": "markdown",
            "metadata": {},
            "source": [
                "## Solutions"
            ]
        },
        {
            "attachments": {},
            "cell_type": "markdown",
            "metadata": {},
            "source": [
                "### Exercise 1"
            ]
        },
        {
            "cell_type": "code",
            "execution_count": 66,
            "metadata": {},
            "outputs": [
                {
                    "name": "stdout",
                    "output_type": "stream",
                    "text": [
                        "256\n"
                    ]
                }
            ],
            "source": [
                "let pow = Python.evaluate(\"2 ** 8\") \n",
                "print(pow)"
            ]
        },
        {
            "attachments": {},
            "cell_type": "markdown",
            "metadata": {},
            "source": [
                "### Exercise 2"
            ]
        },
        {
            "cell_type": "code",
            "execution_count": 69,
            "metadata": {},
            "outputs": [
                {
                    "name": "stdout",
                    "output_type": "stream",
                    "text": [
                        "3.141592653589793\n"
                    ]
                }
            ],
            "source": [
                "let math = Python.import_module(\"math\")\n",
                "\n",
                "let pi = math.pi\n",
                "print(pi)"
            ]
        },
        {
            "attachments": {},
            "cell_type": "markdown",
            "metadata": {},
            "source": [
                "### Exercise 3"
            ]
        },
        {
            "cell_type": "code",
            "execution_count": 63,
            "metadata": {},
            "outputs": [
                {
                    "name": "stdout",
                    "output_type": "stream",
                    "text": [
                        "4.0\n"
                    ]
                }
            ],
            "source": [
                "let left = Float64(2.0)\n",
                "let right = SIMD[DType.float64, 1](2.0)\n",
                "\n",
                "print(left * right)"
            ]
        },
        {
            "attachments": {},
            "cell_type": "markdown",
            "metadata": {},
            "source": [
                "### Exercise 4"
            ]
        },
        {
            "cell_type": "code",
            "execution_count": 41,
            "metadata": {},
            "outputs": [
                {
                    "name": "stdout",
                    "output_type": "stream",
                    "text": [
                        "[1, 0, 0, 0]\n",
                        "[0, 1, 0, 0]\n",
                        "[0, 0, 1, 0]\n",
                        "[0, 0, 0, 1]\n"
                    ]
                }
            ],
            "source": [
                "for i in range(4):\n",
                "    simd = SIMD[DType.uint8, 4](0)\n",
                "    simd[i] = 1\n",
                "    print(simd)"
            ]
        },
        {
            "attachments": {},
            "cell_type": "markdown",
            "metadata": {},
            "source": [
                "<CommentService />"
            ]
        }
    ],
    "metadata": {
        "kernelspec": {
            "display_name": "Mojo",
            "language": "mojo",
            "name": "mojo-jupyter-kernel"
        },
        "language_info": {
            "codemirror_mode": {
                "name": "mojo"
            },
            "file_extension": ".mojo",
            "mimetype": "text/x-mojo",
            "name": "mojo"
        },
        "orig_nbformat": 4
    },
    "nbformat": 4,
    "nbformat_minor": 2
}
